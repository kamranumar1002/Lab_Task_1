{
  "metadata": {
    "kernelspec": {
      "name": "python",
      "display_name": "Python (Pyodide)",
      "language": "python"
    },
    "language_info": {
      "codemirror_mode": {
        "name": "python",
        "version": 3
      },
      "file_extension": ".py",
      "mimetype": "text/x-python",
      "name": "python",
      "nbconvert_exporter": "python",
      "pygments_lexer": "ipython3",
      "version": "3.8"
    }
  },
  "nbformat_minor": 5,
  "nbformat": 4,
  "cells": [
    {
      "id": "8dc320a3-359b-4b4c-9fa3-59d6748f2b1c",
      "cell_type": "code",
      "source": "print(\"Helloooo\") # print statement\n\nx=8 # variable declaration\n\nprint(\"value of x is {}\".format(x))\n\nif x>3: # if else\n    print(\"x is greater than 8\")\nelif x == 3:\n    print(\"x is 3\")\nelse:\n    print(\"x is lesser than 8\")\n",
      "metadata": {
        "trusted": true
      },
      "outputs": [
        {
          "name": "stdout",
          "output_type": "stream",
          "text": "Helloooo\nvalue of x is 8\nx is greater than 8\n"
        }
      ],
      "execution_count": 13
    },
    {
      "id": "bf0c9507-4ac9-498a-b14f-3167b346af42",
      "cell_type": "code",
      "source": "for i in range(10): # for loop\n    print(i, end=\" \")\n    \nprint()",
      "metadata": {
        "trusted": true
      },
      "outputs": [],
      "execution_count": null
    },
    {
      "id": "76e64368-2b2a-4ce4-b871-1de8cbfa387a",
      "cell_type": "code",
      "source": "while x > 0: # while loop\n    print(x, end = \" \")\n    x -= 1\n\nprint()",
      "metadata": {
        "trusted": true
      },
      "outputs": [],
      "execution_count": null
    },
    {
      "id": "28652a3e-0a91-435e-a2a6-66885957d190",
      "cell_type": "code",
      "source": "print(\"value of x is \" + str(x))\n\nx = str(x) # type casting\nprint(type(x))",
      "metadata": {
        "trusted": true
      },
      "outputs": [],
      "execution_count": null
    },
    {
      "id": "01409930-89c1-48d2-99cc-ae85dce49f37",
      "cell_type": "code",
      "source": "#arrays\narr = [1,2,3,4]\n\nsquaredArr = [x**2 for x in arr]\n\nfor i in squaredArr:\n    print(i, end= \" \")\n\nprint()\n\n#tuples\ntup = (4,6)\n#tup[0] = 5 # this will give error as tuples are immutable\n\ntups = str(tup)[:-1] + \",9)\" # you can modify tuple through this method\ntup = eval(tups)\n\nfor i in tup:\n    print(i, end=\" \")\n\nprint()\n\n#sets\nsetA = {1,2,3,4,3}    \nprint(len(setA))\n\n#dictionaries\ndictA = {\"a\" : 10, \"b\": 9}\nprint(dictA.get(\"c\", \"Not found\"))\n\nfor i, j in dictA.items():\n    print(\"key is {} value is {}\".format(i,j))\n",
      "metadata": {
        "trusted": true
      },
      "outputs": [
        {
          "name": "stdout",
          "output_type": "stream",
          "text": "1 4 9 16 \n4 6 9 \n4\nNot found\nkey is a value is 10\nkey is b value is 9\n"
        }
      ],
      "execution_count": 23
    },
    {
      "id": "c8d7ed4d-7ce8-4332-9216-0e68a13a39e8",
      "cell_type": "code",
      "source": "class Stack:\n\n    def __init__(self):\n        self.stack = []\n\n    def push(self, item):\n        self.stack.append(item)\n\n    def pop(self):\n        if len(self.stack) == 0:\n            raise Exception(\"Size of stack is 0\")\n        return self.stack.pop()\n\n    def peek(self):\n        return self.stack[len(stack) - 1]\n\nstack1 = Stack()\nstack1.push(\"HHH\")\n\nstack1.pop()\n\nstack1.pop()            ",
      "metadata": {
        "trusted": true
      },
      "outputs": [
        {
          "ename": "<class 'Exception'>",
          "evalue": "Size of stack is 0",
          "traceback": [
            "\u001b[0;31m---------------------------------------------------------------------------\u001b[0m",
            "\u001b[0;31mException\u001b[0m                                 Traceback (most recent call last)",
            "Cell \u001b[0;32mIn[27], line 22\u001b[0m\n\u001b[1;32m     18\u001b[0m stack1\u001b[38;5;241m.\u001b[39mpush(\u001b[38;5;124m\"\u001b[39m\u001b[38;5;124mHHH\u001b[39m\u001b[38;5;124m\"\u001b[39m)\n\u001b[1;32m     20\u001b[0m stack1\u001b[38;5;241m.\u001b[39mpop()\n\u001b[0;32m---> 22\u001b[0m \u001b[43mstack1\u001b[49m\u001b[38;5;241;43m.\u001b[39;49m\u001b[43mpop\u001b[49m\u001b[43m(\u001b[49m\u001b[43m)\u001b[49m            \n",
            "Cell \u001b[0;32mIn[27], line 11\u001b[0m, in \u001b[0;36mStack.pop\u001b[0;34m(self)\u001b[0m\n\u001b[1;32m      9\u001b[0m \u001b[38;5;28;01mdef\u001b[39;00m \u001b[38;5;21mpop\u001b[39m(\u001b[38;5;28mself\u001b[39m):\n\u001b[1;32m     10\u001b[0m     \u001b[38;5;28;01mif\u001b[39;00m \u001b[38;5;28mlen\u001b[39m(\u001b[38;5;28mself\u001b[39m\u001b[38;5;241m.\u001b[39mstack) \u001b[38;5;241m==\u001b[39m \u001b[38;5;241m0\u001b[39m:\n\u001b[0;32m---> 11\u001b[0m         \u001b[38;5;28;01mraise\u001b[39;00m \u001b[38;5;167;01mException\u001b[39;00m(\u001b[38;5;124m\"\u001b[39m\u001b[38;5;124mSize of stack is 0\u001b[39m\u001b[38;5;124m\"\u001b[39m)\n\u001b[1;32m     12\u001b[0m     \u001b[38;5;28;01mreturn\u001b[39;00m \u001b[38;5;28mself\u001b[39m\u001b[38;5;241m.\u001b[39mstack\u001b[38;5;241m.\u001b[39mpop()\n",
            "\u001b[0;31mException\u001b[0m: Size of stack is 0"
          ],
          "output_type": "error"
        }
      ],
      "execution_count": 27
    }
  ]
}